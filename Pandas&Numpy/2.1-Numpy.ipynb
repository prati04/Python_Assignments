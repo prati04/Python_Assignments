{
 "cells": [
  {
   "cell_type": "code",
   "execution_count": null,
   "metadata": {},
   "outputs": [],
   "source": [
    "\"\"\"Problem Statement 1:\n",
    "Write a function so that the columns of the output matrix are powers of the input\n",
    "vector.\n",
    "The order of the powers is determined by the increasing boolean argument. Specifically, when\n",
    "increasing is False, the i-th output column is the input vector raised element-wise to the power\n",
    "of N - i - 1.\n",
    "\n",
    "elem at ith colummn = a ^ (n-i-1)\n",
    "\n",
    "HINT: Such a matrix with a geometric progression in each row is named for Alexandre-\n",
    "Theophile Vandermonde.\"\"\""
   ]
  },
  {
   "cell_type": "code",
   "execution_count": 2,
   "metadata": {},
   "outputs": [],
   "source": [
    "import numpy as np"
   ]
  },
  {
   "cell_type": "code",
   "execution_count": 5,
   "metadata": {},
   "outputs": [
    {
     "data": {
      "text/plain": [
       "array([[  1,   1,   1,   1,   1],\n",
       "       [  1,   2,   4,   8,  16],\n",
       "       [  1,   3,   9,  27,  81],\n",
       "       [  1,   4,  16,  64, 256],\n",
       "       [  1,   5,  25, 125, 625]])"
      ]
     },
     "execution_count": 5,
     "metadata": {},
     "output_type": "execute_result"
    }
   ],
   "source": [
    "np.vander([1,2,3,4,5],increasing=True)"
   ]
  },
  {
   "cell_type": "code",
   "execution_count": null,
   "metadata": {},
   "outputs": [],
   "source": [
    "\"\"\"Problem Statement 2:\n",
    "Given a sequence of n values x1, x2, ..., xn and a window size k>0, the k-th moving average of\n",
    "the given sequence is defined as follows:\n",
    "The moving average sequence has n-k+1 elements as shown below.\"\"\"\n",
    "\n",
    "\"\"\"Question: Write a function to find moving average in an array over a window:\n",
    "Test it over [3, 5, 7, 2, 8, 10, 11, 65, 72, 81, 99, 100, 150] and window of 3\"\"\""
   ]
  },
  {
   "cell_type": "code",
   "execution_count": 15,
   "metadata": {},
   "outputs": [
    {
     "name": "stdout",
     "output_type": "stream",
     "text": [
      "array is - [3, 5, 7] and average is 5.0\n",
      "array is - [5, 7, 2] and average is 4.67\n",
      "array is - [7, 2, 8] and average is 5.67\n",
      "array is - [2, 8, 10] and average is 6.67\n",
      "array is - [8, 10, 11] and average is 9.67\n",
      "array is - [10, 11, 65] and average is 28.67\n",
      "array is - [11, 65, 72] and average is 49.33\n",
      "array is - [65, 72, 81] and average is 72.67\n",
      "array is - [72, 81, 99] and average is 84.0\n",
      "array is - [81, 99, 100] and average is 93.33\n",
      "array is - [99, 100, 150] and average is 116.33\n"
     ]
    }
   ],
   "source": [
    "def moving_avg(arr,k):\n",
    "    n=len(arr)\n",
    "    for val in range(0,n-k+1):\n",
    "        temparr= arr[val:val+k]\n",
    "        print(\"array is - {} and average is {}\".format(temparr, round(np.mean(temparr),2)))\n",
    "arr =[3, 5, 7, 2, 8, 10, 11, 65, 72, 81, 99, 100, 150]\n",
    "k =3\n",
    "moving_avg(arr,k)"
   ]
  },
  {
   "cell_type": "code",
   "execution_count": 7,
   "metadata": {},
   "outputs": [
    {
     "name": "stdout",
     "output_type": "stream",
     "text": [
      "array is - [3, 5, 7] and average is 5.0\n",
      "array is - [5, 7, 2] and average is 4.67\n",
      "array is - [7, 2, 8] and average is 5.67\n",
      "array is - [2, 8, 10] and average is 6.67\n",
      "array is - [8, 10, 11] and average is 9.67\n",
      "array is - [10, 11, 65] and average is 28.67\n",
      "array is - [11, 65, 72] and average is 49.33\n",
      "array is - [65, 72, 81] and average is 72.67\n",
      "array is - [72, 81, 99] and average is 84.0\n",
      "array is - [81, 99, 100] and average is 93.33\n",
      "array is - [99, 100, 150] and average is 116.33\n"
     ]
    }
   ],
   "source": [
    "##alternate solution using cumsum\n",
    "def moving_avg(arr,k):\n",
    "    n=len(arr)\n",
    "    for val in range(0,n-k+1):\n",
    "        temparr= arr[val:val+k]\n",
    "        print(\"array is - {} and average is {}\".format(temparr, round(np.cumsum(temparr)[2]/3,2)))\n",
    "arr =[3, 5, 7, 2, 8, 10, 11, 65, 72, 81, 99, 100, 150]\n",
    "k =3\n",
    "moving_avg(arr,k)"
   ]
  },
  {
   "cell_type": "code",
   "execution_count": null,
   "metadata": {},
   "outputs": [],
   "source": []
  }
 ],
 "metadata": {
  "kernelspec": {
   "display_name": "Python 3",
   "language": "python",
   "name": "python3"
  },
  "language_info": {
   "codemirror_mode": {
    "name": "ipython",
    "version": 3
   },
   "file_extension": ".py",
   "mimetype": "text/x-python",
   "name": "python",
   "nbconvert_exporter": "python",
   "pygments_lexer": "ipython3",
   "version": "3.7.1"
  }
 },
 "nbformat": 4,
 "nbformat_minor": 2
}
