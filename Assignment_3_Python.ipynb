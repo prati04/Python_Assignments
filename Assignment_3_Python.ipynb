{
 "cells": [
  {
   "cell_type": "code",
   "execution_count": 12,
   "metadata": {},
   "outputs": [
    {
     "name": "stdout",
     "output_type": "stream",
     "text": [
      "enter the number string 2,45,21,32,34,44\n",
      "45\n"
     ]
    }
   ],
   "source": [
    "\"\"\"1.1Write a Python Program to implement your own myreduce() function which works exactly\n",
    "like Python's built-in function reduce()\"\"\"\n",
    "def myreduce(a,b):\n",
    "    #return your implementation of reduce\n",
    "    #using it for finding maximum number in list\n",
    "    if a>b :\n",
    "        return a\n",
    "    else:\n",
    "        return b\n",
    "\n",
    "lis=input(\"enter the number string \")\n",
    "lis=lis.split(\",\")\n",
    "a=lis[0]\n",
    "for i in lis[1:]:\n",
    "    a=myreduce(a,i)\n",
    "    \n",
    "print(a)    "
   ]
  },
  {
   "cell_type": "code",
   "execution_count": 6,
   "metadata": {},
   "outputs": [
    {
     "name": "stdout",
     "output_type": "stream",
     "text": [
      "input the list 23,45,12,6,76,9\n",
      "Filtered lis is ['12', '6', '76']\n"
     ]
    }
   ],
   "source": [
    "\"\"\"1.2. Write a Python program to implement your own myfilter() function which works exactly\n",
    "like Python's built-in function filter() \"\"\"\n",
    "def filterelement(i):\n",
    "    #filtering the list for even numbers\n",
    "    if i%2==0:\n",
    "        return True\n",
    "    return False\n",
    "\n",
    "lis = input(\"input the list \")\n",
    "lis=lis.split(\",\")\n",
    "newlis=[]\n",
    "for i in lis:\n",
    "    if filterelement(int(i))==True:\n",
    "        newlis.append(i)\n",
    "\n",
    "print(\"Filtered lis is {}\".format(newlis))\n",
    "\n",
    "\n"
   ]
  },
  {
   "cell_type": "code",
   "execution_count": 7,
   "metadata": {},
   "outputs": [
    {
     "name": "stdout",
     "output_type": "stream",
     "text": [
      "['A', 'C', 'A', 'D', 'G', 'L', 'I', 'D']\n",
      "['x', 'xx', 'xxx', 'xxxx', 'y', 'yy', 'yyy', 'yyyy', 'z', 'zz', 'zzz', 'zzzz']\n",
      "['x', 'y', 'z', 'xx', 'yy', 'zz', 'xxx', 'yyy', 'zzz', 'xxxx', 'yyyy', 'zzzz']\n",
      "[[2], [3], [4], [3], [4], [5], [4], [5], [6]]\n",
      "[[2, 3, 4, 5], [3, 4, 5, 6], [4, 5, 6, 7], [5, 6, 7, 8]]\n",
      "[(1, 1), (2, 1), (3, 1), (1, 2), (2, 2), (3, 2), (1, 3), (2, 3), (3, 3)]\n"
     ]
    }
   ],
   "source": [
    "\"\"\"2 Implement List comprehensions to produce the following lists.\n",
    "Write List comprehensions to produce the following Lists.\n",
    "['A', 'C', 'A', 'D', 'G', 'I', ’L’, ‘ D’]\n",
    "['x', 'xx', 'xxx', 'xxxx', 'y', 'yy', 'yyy', 'yyyy', 'z', 'zz', 'zzz', 'zzzz']\n",
    "['x', 'y', 'z', 'xx', 'yy', 'zz', 'xxx', 'yyy', 'zzz', 'xxxx', 'yyyy', 'zzzz']\n",
    "[[2], [3], [4], [3], [4], [5], [4], [5], [6]] [[2, 3, 4, 5], [3, 4, 5, 6], [4,\n",
    "5, 6, 7], [5, 6, 7, 8]]\n",
    "[(1, 1), (2, 1), (3, 1), (1, 2), (2, 2), (3, 2), (1, 3), (2, 3), (3,3)] \"\"\"\n",
    "\n",
    "    \n",
    "lis1=\"ACADGLID\"\n",
    "lis1_c= [i for i in lis1]\n",
    "print(lis1_c)\n",
    "\n",
    "lis2=[\"x\",\"y\",\"z\"]\n",
    "lis2_c = [i * num for i in lis2 for num in range(1,5)]\n",
    "print(lis2_c)\n",
    "\n",
    "lis3_c =[i*num for num in range(1,5) for i in lis2]\n",
    "print(lis3_c)\n",
    "\n",
    "lis4=[2,3,4]\n",
    "lis4_c = [[i+j-1]  for j in range(1,4) for i in lis4]\n",
    "print(lis4_c)\n",
    "\n",
    "lis5=[2,3,4,5]\n",
    "lis5_c = [[i+j-1 for i in lis5] for j in range(1,5) ]\n",
    "print(lis5_c)\n",
    "\n",
    "\n",
    "\n",
    "lis6=[1,2,3]\n",
    "lis6_c=[(j,i) for i in lis6 for j in lis6]\n",
    "print(lis6_c)"
   ]
  },
  {
   "cell_type": "code",
   "execution_count": 9,
   "metadata": {},
   "outputs": [
    {
     "name": "stdout",
     "output_type": "stream",
     "text": [
      "enter the string of words: india, japan , uk , america, korea, indonesia\n",
      " indonesia\n"
     ]
    }
   ],
   "source": [
    "\"\"\"3. Implement a function longestWord() that takes a list of words and returns the longest one.\"\"\"\n",
    "\n",
    "def longestWord(lis):\n",
    "    ans=lis[0]\n",
    "    maxlen=len(lis[0])\n",
    "    for word in lis:\n",
    "        if len(word)>maxlen:\n",
    "            ans=word\n",
    "            maxlen=len(word)\n",
    "    return ans\n",
    "\n",
    "lis =input(\"enter the string of words: \")\n",
    "print(longestWord(lis.split(\",\")))"
   ]
  },
  {
   "cell_type": "code",
   "execution_count": null,
   "metadata": {},
   "outputs": [],
   "source": []
  }
 ],
 "metadata": {
  "kernelspec": {
   "display_name": "Python 3",
   "language": "python",
   "name": "python3"
  },
  "language_info": {
   "codemirror_mode": {
    "name": "ipython",
    "version": 3
   },
   "file_extension": ".py",
   "mimetype": "text/x-python",
   "name": "python",
   "nbconvert_exporter": "python",
   "pygments_lexer": "ipython3",
   "version": "3.7.1"
  }
 },
 "nbformat": 4,
 "nbformat_minor": 2
}
