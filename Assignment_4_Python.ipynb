{
 "cells": [
  {
   "cell_type": "code",
   "execution_count": 13,
   "metadata": {},
   "outputs": [],
   "source": [
    "\"\"\"1.1 Write a Python Program(with class concepts) to find the area of the triangle using the below formula.\n",
    "    area = (s*(s-a)*(s-b)*(s-c)) ** 0.5\n",
    "Function to take the length of the sides of triangle from user should be defined in the parent class and function to\n",
    "calculate the area should be defined in subclass.\"\"\"\n",
    "\n",
    "class Triangle:\n",
    "    def __init__(self,a,b,c):\n",
    "        self.a = a\n",
    "        self.b = b\n",
    "        self.c = c\n",
    "        \n",
    "    def __str__(self):\n",
    "        return (\"The triangle sides are {},{},{}\".format(self.a,self.b,self.c))\n"
   ]
  },
  {
   "cell_type": "code",
   "execution_count": 23,
   "metadata": {},
   "outputs": [],
   "source": [
    "class Area(Triangle):\n",
    "    def __init__(self,a,b,c):\n",
    "        super().__init__(a,b,c)\n",
    "    def area_value(self):\n",
    "        s=(self.a+self.b+self.c)/2\n",
    "        area = (s*(s-self.a)*(s-self.b)*(s-self.c)) ** 0.5\n",
    "        return area;"
   ]
  },
  {
   "cell_type": "code",
   "execution_count": 24,
   "metadata": {},
   "outputs": [
    {
     "name": "stdout",
     "output_type": "stream",
     "text": [
      "The triangle sides are 5,3,4\n",
      "Area is 6.0\n"
     ]
    }
   ],
   "source": [
    "tri = Area(5,3,4)\n",
    "print(tri)\n",
    "print(\"Area is {}\".format(tri.area_value()))"
   ]
  },
  {
   "cell_type": "code",
   "execution_count": 11,
   "metadata": {},
   "outputs": [
    {
     "name": "stdout",
     "output_type": "stream",
     "text": [
      "enter the words: one,two,three,hundred,twenty,forty\n",
      "enter n 3\n",
      "['three', 'hundred', 'twenty', 'forty']\n"
     ]
    }
   ],
   "source": [
    "\"\"\"1.2 Write a function filter_long_words() that takes a list of words and an integer n and returns\n",
    "the list of words that are longer than n.\"\"\"\n",
    "\n",
    "def filter_long_words(words_list,n):\n",
    "    return filter(lambda x:len(x)>int(n) , words_list)\n",
    "\n",
    "words_list = input(\"enter the words: \")\n",
    "words_list = words_list.split(\",\")\n",
    "n = input(\"enter n \" )\n",
    "print(list(filter_long_words(words_list,n)))\n"
   ]
  },
  {
   "cell_type": "code",
   "execution_count": 25,
   "metadata": {},
   "outputs": [
    {
     "name": "stdout",
     "output_type": "stream",
     "text": [
      "[3, 6, 3, 4]\n"
     ]
    }
   ],
   "source": [
    "\"\"\"2.1 Write a Python program using function concept that maps list of words into a list of integers\n",
    "representing the lengths of the corresponding words.\"\"\"\n",
    "\n",
    "def map_words(words):\n",
    "    lis=[]\n",
    "    for word in words:\n",
    "        lis.append(len(word))\n",
    "    return lis\n",
    "print(map_words([\"one\",\"twenty\", \"cat\",\"lion\"]))"
   ]
  },
  {
   "cell_type": "code",
   "execution_count": 32,
   "metadata": {},
   "outputs": [
    {
     "name": "stdout",
     "output_type": "stream",
     "text": [
      "False\n",
      "True\n",
      "True\n"
     ]
    }
   ],
   "source": [
    "\"\"\"2.2 Write a Python function which takes a character (i.e. a string of length 1) and returns True if\n",
    "it is a vowel, False otherwise.\"\"\"\n",
    "\n",
    "def isvowel(char):\n",
    "    if char in(\"a\",\"e\",\"i\",\"o\",\"u\"):\n",
    "        return True\n",
    "    return False\n",
    "print(isvowel(\"k\"))\n",
    "print(isvowel(\"a\"))\n",
    "print(isvowel(\"o\"))"
   ]
  },
  {
   "cell_type": "code",
   "execution_count": null,
   "metadata": {},
   "outputs": [],
   "source": []
  }
 ],
 "metadata": {
  "kernelspec": {
   "display_name": "Python 3",
   "language": "python",
   "name": "python3"
  },
  "language_info": {
   "codemirror_mode": {
    "name": "ipython",
    "version": 3
   },
   "file_extension": ".py",
   "mimetype": "text/x-python",
   "name": "python",
   "nbconvert_exporter": "python",
   "pygments_lexer": "ipython3",
   "version": "3.7.1"
  }
 },
 "nbformat": 4,
 "nbformat_minor": 2
}
